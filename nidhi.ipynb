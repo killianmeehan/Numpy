{
 "cells": [
  {
   "cell_type": "code",
   "execution_count": 5,
   "metadata": {},
   "outputs": [
    {
     "name": "stdout",
     "output_type": "stream",
     "text": [
      "[[1. 1. 1. 1. 1. 1. 1. 1. 1.]\n",
      " [1. 1. 1. 1. 1. 1. 1. 1. 1.]]\n",
      "[[0. 0.]\n",
      " [0. 0.]]\n"
     ]
    }
   ],
   "source": [
    "#   1.    \n",
    "\n",
    "import numpy as np\n",
    "\n",
    "b = np.ones((2,9))    # Create an array of all ones\n",
    "print(b)              \n",
    "a = np.zeros((2,2))   # Create an array of all zeros\n",
    "print(a)  \n",
    "   "
   ]
  },
  {
   "cell_type": "code",
   "execution_count": 6,
   "metadata": {},
   "outputs": [
    {
     "name": "stdout",
     "output_type": "stream",
     "text": [
      "std of arr :  6.881860213634101\n",
      "std of arr :  293.4393747721438\n"
     ]
    }
   ],
   "source": [
    "        \n",
    " #  2.      Outliers Standard Deviation\n",
    " \n",
    "import numpy as np\n",
    "\n",
    "# 1D array\n",
    "arr = [(8, 12, 16, 24, 4)]\n",
    "\n",
    "print(\"std of arr : \", np.std(arr))\n",
    "\n",
    "arr1 = [(8, 12, 16, 24, 4, 800)]\n",
    "\n",
    "print(\"std of arr : \", np.std(arr1))\n"
   ]
  },
  {
   "cell_type": "code",
   "execution_count": 7,
   "metadata": {},
   "outputs": [
    {
     "data": {
      "image/png": "[encoded data removed]",
      "text/plain": [
       "<Figure size 432x288 with 1 Axes>"
      ]
     },
     "metadata": {
      "needs_background": "light"
     },
     "output_type": "display_data"
    }
   ],
   "source": [
    "\n",
    "#   3.   Graph\n",
    "\n",
    "import matplotlib.pyplot as plot\n",
    "import numpy as np\n",
    "\n",
    "x = np.array([0,1,2,3,4])\n",
    "y = 2*x + 1\n",
    "\n",
    "plot.plot(x,y)\n",
    "plot.show()\n"
   ]
  },
  {
   "cell_type": "code",
   "execution_count": 8,
   "metadata": {},
   "outputs": [
    {
     "name": "stdout",
     "output_type": "stream",
     "text": [
      "[ 0  0  0 17 22 25 36 43 54 55 69 82]\n"
     ]
    },
    {
     "data": {
      "text/plain": [
       "30.5"
      ]
     },
     "execution_count": 8,
     "metadata": {},
     "output_type": "execute_result"
    }
   ],
   "source": [
    "#   4.    Median\n",
    "\n",
    "import numpy as np\n",
    "np_array_1d = np.array([0,0,0,17,22,25,36,43,54,55,69,82])\n",
    "print(np_array_1d)\n",
    "np.median(np_array_1d)"
   ]
  }
 ],
 "metadata": {
  "interpreter": {
   "hash": "b3ba2566441a7c06988d0923437866b63cedc61552a5af99d1f4fb67d367b25f"
  },
  "kernelspec": {
   "display_name": "Python 3.8.8 ('base')",
   "language": "python",
   "name": "python3"
  },
  "language_info": {
   "codemirror_mode": {
    "name": "ipython",
    "version": 3
   },
   "file_extension": ".py",
   "mimetype": "text/x-python",
   "name": "python",
   "nbconvert_exporter": "python",
   "pygments_lexer": "ipython3",
   "version": "3.8.8"
  },
  "orig_nbformat": 4
 },
 "nbformat": 4,
 "nbformat_minor": 2
}
