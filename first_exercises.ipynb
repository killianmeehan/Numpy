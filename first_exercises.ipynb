{
 "cells": [
  {
   "cell_type": "code",
   "execution_count": 2,
   "metadata": {},
   "outputs": [
    {
     "name": "stdout",
     "output_type": "stream",
     "text": [
      "[1 4 5]\n",
      "[1 4 5]\n",
      "[2 2]\n",
      "[2 2]\n"
     ]
    }
   ],
   "source": [
    "import numpy as np\n",
    "\n",
    "a = np.array([[1,2], [3, 4], [5, 6]])\n",
    "\n",
    "# An example of integer array indexing.\n",
    "# The returned array will have shape (3,) and\n",
    "print(a[[0, 1, 2], [0, 1, 0]])  # Prints \"[1 4 5]\"\n",
    "\n",
    "# The above example of integer array indexing is equivalent to this:\n",
    "print(np.array([a[0, 0], a[1, 1], a[2, 0]]))  # Prints \"[1 4 5]\"\n",
    "\n",
    "# When using integer array indexing, you can reuse the same\n",
    "# element from the source array:\n",
    "print(a[[0, 0], [1, 1]])  # Prints \"[2 2]\"\n",
    "\n",
    "# Equivalent to the previous integer array indexing example\n",
    "print(np.array([a[0, 1], a[0, 1]]))  # Prints \"[2 2]\""
   ]
  },
  {
   "cell_type": "code",
   "execution_count": 11,
   "metadata": {},
   "outputs": [
    {
     "name": "stdout",
     "output_type": "stream",
     "text": [
      "[10.   2.   3.5  4.   1.   5. ]\n"
     ]
    }
   ],
   "source": [
    "import numpy as np\n",
    "\n",
    "two_d_array = np.array([[10, 2, 3.5, 4, 1, 5], [1.25, 2.3, 4, 1.8, 2.25, 3.45], [10, 5, 15, 25, 20, 30]])\n",
    "\n",
    "weight_list = two_d_array[0]\n",
    "print(weight_list)"
   ]
  },
  {
   "cell_type": "code",
   "execution_count": 9,
   "metadata": {},
   "outputs": [
    {
     "data": {
      "text/plain": [
       "-3.552713678800501e-15"
      ]
     },
     "execution_count": 9,
     "metadata": {},
     "output_type": "execute_result"
    }
   ],
   "source": [
    "import numpy as np\n",
    "#Given, there are 5 numbers in the data set: (8, 12, 16, 24, 4). \n",
    "#What will be the sum of deviations of individual data points from their mean ?\n",
    "\n",
    "data_set = np.array([8, 12, 16, 24, 4])\n",
    "np.sum(data_set - np.mean(data_set))\n"
   ]
  },
  {
   "cell_type": "code",
   "execution_count": 8,
   "metadata": {},
   "outputs": [
    {
     "name": "stdout",
     "output_type": "stream",
     "text": [
      "0.6324555320336759\n"
     ]
    },
    {
     "data": {
      "text/plain": [
       "5.238320341483518"
      ]
     },
     "execution_count": 8,
     "metadata": {},
     "output_type": "execute_result"
    }
   ],
   "source": [
    "import numpy as np\n",
    "# If some outliers are introduced to the dataset, what will happen to the Standard Deviation ? \n",
    "# A) Standard Deviation is robust to outliers \n",
    "# B) Standard Deviation will increase with the introduction of outliers. \n",
    "# C) Standard Deviation will decrease with the introduction of outliers. \n",
    "# D) Can not be determined.\n",
    "\n",
    "# B), SD will increase. As SD is the measure of dispersion of a set of data from its mean.\n",
    "a_set = np.array([4, 5, 3, 4, 4])\n",
    "print(np.std(a_set))\n",
    "another_set = np.array([4, 5, 3, 4, 17])\n",
    "np.std(another_set)\n"
   ]
  },
  {
   "cell_type": "code",
   "execution_count": null,
   "metadata": {},
   "outputs": [],
   "source": [
    "# Suppose the below positively skewed distribution has a median of 30, which of the following statement is true?\n",
    "# A) Mean is greater than 30\n",
    "# B) Mean is less than 30\n",
    "# C) Mode is greater than 30\n",
    "# D) Mode is less than 30\n",
    "# E) Both A and D\n",
    "# F) Both B and C\n",
    "\n",
    "# By definition, the mean will be greater than the median, therefore A) is true. We do not have enough information to \n",
    "# comment on the mode except from the picture where it is shows the mode to be less than the median. So E) is the answer."
   ]
  },
  {
   "cell_type": "code",
   "execution_count": 1,
   "metadata": {},
   "outputs": [
    {
     "name": "stdout",
     "output_type": "stream",
     "text": [
      "201.5\n",
      "[ 36  90 159 241 296 339 364 386 403]\n"
     ]
    }
   ],
   "source": [
    "import numpy as np\n",
    "# Which value can be the possible value for the median of the below distribution?\n",
    "# A) 40\n",
    "# B) 26\n",
    "# C) 16\n",
    "# D) 50\n",
    "\n",
    "find_median = np.array([36, 54, 69, 82, 55, 43, 25, 22, 17])\n",
    "new_find_median = np.cumsum(find_median)\n",
    "new_find_median\n",
    "median = (find_median.sum()/2)\n",
    "print(median)\n",
    "print(new_find_median)"
   ]
  },
  {
   "cell_type": "code",
   "execution_count": 6,
   "metadata": {},
   "outputs": [
    {
     "data": {
      "text/plain": [
       "43.0"
      ]
     },
     "execution_count": 6,
     "metadata": {},
     "output_type": "execute_result"
    }
   ],
   "source": [
    "fin_median = np.array([36, 54, 69, 82, 55, 43, 25, 22, 17])\n",
    "np.median(fin_median)"
   ]
  }
 ],
 "metadata": {
  "interpreter": {
   "hash": "b3ba2566441a7c06988d0923437866b63cedc61552a5af99d1f4fb67d367b25f"
  },
  "kernelspec": {
   "display_name": "Python 3.8.8 64-bit ('base': conda)",
   "name": "python3"
  },
  "language_info": {
   "codemirror_mode": {
    "name": "ipython",
    "version": 3
   },
   "file_extension": ".py",
   "mimetype": "text/x-python",
   "name": "python",
   "nbconvert_exporter": "python",
   "pygments_lexer": "ipython3",
   "version": "3.8.8"
  },
  "orig_nbformat": 4
 },
 "nbformat": 4,
 "nbformat_minor": 2
}
